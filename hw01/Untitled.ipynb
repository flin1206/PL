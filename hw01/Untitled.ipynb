{
 "cells": [
  {
   "cell_type": "code",
   "execution_count": 1,
   "id": "e28c095a-08b5-4cae-8326-42b6be060eb4",
   "metadata": {},
   "outputs": [
    {
     "name": "stdout",
     "output_type": "stream",
     "text": [
      "  水果種類\n",
      "0   水梨\n",
      "1   香蕉\n",
      "2   芭樂\n",
      "3  火龍果\n",
      "4  奇異果\n",
      "5   木瓜\n"
     ]
    }
   ],
   "source": [
    "import pandas as pd\n",
    "\n",
    "test = pd.read_csv(\"data.csv\")\n",
    "print(test)"
   ]
  },
  {
   "cell_type": "code",
   "execution_count": 2,
   "id": "861d2644-0b53-4ea3-80e7-8e71c486bbd0",
   "metadata": {},
   "outputs": [
    {
     "name": "stdout",
     "output_type": "stream",
     "text": [
      "  水果種類\n",
      "0   水梨\n",
      "1   草莓\n",
      "2   芭樂\n",
      "3   榴槤\n",
      "4  奇異果\n",
      "5   西瓜\n"
     ]
    }
   ],
   "source": [
    "#匯入第二個csv檔案-水果清單2\n",
    "\n",
    "test2 = pd.read_csv(\"data2.csv\")\n",
    "print(test2)"
   ]
  },
  {
   "cell_type": "code",
   "execution_count": 5,
   "id": "cceee6e4-c589-4ae7-a6d9-7f9e646d6b4b",
   "metadata": {},
   "outputs": [
    {
     "name": "stdout",
     "output_type": "stream",
     "text": [
      "清單1水果數: 6   清單2水果數: 6\n"
     ]
    }
   ],
   "source": [
    "#計算兩筆資料集之值\n",
    "ls_A = list(test[\"水果種類\"])\n",
    "ls_B = list(test2[\"水果種類\"])\n",
    "print(\"清單1水果數:\", len(ls_A), \"  清單2水果數:\", len(ls_B))"
   ]
  },
  {
   "cell_type": "code",
   "execution_count": 8,
   "id": "7da07736-df30-443f-a236-b863d237431e",
   "metadata": {},
   "outputs": [
    {
     "name": "stdout",
     "output_type": "stream",
     "text": [
      "共同出現的水果:\n",
      "{'水梨', '芭樂', '奇異果'}\n"
     ]
    }
   ],
   "source": [
    "#交集\n",
    "#共同出現的水果\n",
    "\n",
    "L1=set(ls_A)\n",
    "L2=set(ls_B)\n",
    "\n",
    "print(\"共同出現的水果:\")\n",
    "print(L1&L2)"
   ]
  },
  {
   "cell_type": "code",
   "execution_count": 9,
   "id": "9ee8fc5e-7143-48c2-a67c-5d3f6a9d8a90",
   "metadata": {},
   "outputs": [
    {
     "name": "stdout",
     "output_type": "stream",
     "text": [
      "所有水果:\n",
      "{'火龍果', '奇異果', '西瓜', '香蕉', '榴槤', '木瓜', '草莓', '芭樂', '水梨'}\n"
     ]
    }
   ],
   "source": [
    "#聯集\n",
    "#所有水果\n",
    "\n",
    "print(\"所有水果:\")\n",
    "print(L1|L2)\n"
   ]
  },
  {
   "cell_type": "code",
   "execution_count": 10,
   "id": "4eab70d3-902e-4653-a388-868c6b4673c1",
   "metadata": {},
   "outputs": [
    {
     "name": "stdout",
     "output_type": "stream",
     "text": [
      "出現在清單1且沒出現在清單2的:\n",
      "{'香蕉', '火龍果', '木瓜'}\n"
     ]
    }
   ],
   "source": [
    "#差集\n",
    "#出現在清單1且沒出現在清單2的\n",
    "\n",
    "print(\"出現在清單1且沒出現在清單2的:\")\n",
    "print(L1-L2)"
   ]
  },
  {
   "cell_type": "code",
   "execution_count": 11,
   "id": "0f5d29ba-b9e2-46ad-bd53-4c27d8fb34a5",
   "metadata": {},
   "outputs": [
    {
     "name": "stdout",
     "output_type": "stream",
     "text": [
      "沒共同出現的水果:\n",
      "{'榴槤', '草莓', '西瓜', '火龍果', '香蕉', '木瓜'}\n"
     ]
    }
   ],
   "source": [
    "#對稱差集\n",
    "\n",
    "print(\"沒共同出現的水果:\")\n",
    "print(L1^L2)"
   ]
  }
 ],
 "metadata": {
  "kernelspec": {
   "display_name": "anaconda-2022.05-py39",
   "language": "python",
   "name": "conda-env-anaconda-2022.05-py39-py"
  },
  "language_info": {
   "codemirror_mode": {
    "name": "ipython",
    "version": 3
   },
   "file_extension": ".py",
   "mimetype": "text/x-python",
   "name": "python",
   "nbconvert_exporter": "python",
   "pygments_lexer": "ipython3",
   "version": "3.9.12"
  }
 },
 "nbformat": 4,
 "nbformat_minor": 5
}
